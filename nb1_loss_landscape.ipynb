{
  "nbformat": 4,
  "nbformat_minor": 0,
  "metadata": {
    "colab": {
      "provenance": [],
      "toc_visible": true,
      "authorship_tag": "ABX9TyMwEfCRAr5ARlK3B30W0Z+j",
      "include_colab_link": true
    },
    "kernelspec": {
      "name": "python3",
      "display_name": "Python 3"
    },
    "language_info": {
      "name": "python"
    }
  },
  "cells": [
    {
      "cell_type": "markdown",
      "metadata": {
        "id": "view-in-github",
        "colab_type": "text"
      },
      "source": [
        "<a href=\"https://colab.research.google.com/github/daleas0120/townhall_tutorial/blob/main/nb1_loss_landscape.ipynb\" target=\"_parent\"><img src=\"https://colab.research.google.com/assets/colab-badge.svg\" alt=\"Open In Colab\"/></a>"
      ]
    },
    {
      "cell_type": "markdown",
      "source": [
        "# How to calculate a loss landscape\n",
        "\n",
        "Ashley S. Dale\n",
        "\n",
        "## Summary\n",
        "\n",
        "1. Train a small model on a toy dataset\n",
        "    - We will use the [Glass Identification Dataset](http://archive.ics.uci.edu/dataset/42/glass+identification) from UC Irvine Machine Learning Repository\n",
        "2. Calculate the Hessian of the model\n",
        "3. Calculate the eigenvalues and eigenvectors of the Hessian\n",
        "4. Calculate the loss landscape for the model"
      ],
      "metadata": {
        "id": "NzPJP3MXfFHe"
      }
    },
    {
      "cell_type": "code",
      "source": [
        "%pip install ucimlrepo --quiet"
      ],
      "metadata": {
        "id": "IweH8iuQh2ln"
      },
      "execution_count": 1,
      "outputs": []
    },
    {
      "cell_type": "code",
      "execution_count": 2,
      "metadata": {
        "id": "TLDgdE93e8RM"
      },
      "outputs": [],
      "source": [
        "import numpy as np\n",
        "import matplotlib.pyplot as plt\n",
        "import copy\n",
        "# Data Processing\n",
        "from ucimlrepo import fetch_ucirepo\n",
        "from sklearn.preprocessing import StandardScaler\n",
        "from sklearn.model_selection import train_test_split\n",
        "\n",
        "# Model training & Hessian Calculation\n",
        "import torch\n",
        "import torch.nn as nn\n",
        "import torch.optim as optim\n",
        "\n",
        "# Hessian Eigenvectors and Values\n",
        "from numpy import linalg as LA\n"
      ]
    },
    {
      "cell_type": "markdown",
      "source": [
        "## Data Preprocessing"
      ],
      "metadata": {
        "id": "TBrJfnVeiGVy"
      }
    },
    {
      "cell_type": "code",
      "source": [
        "# load the dataset by running this cell\n",
        "glass_identification = fetch_ucirepo(id=42)\n",
        "\n",
        "# extract the refractive index and chemical formula information\n",
        "raw_data = glass_identification.data.features\n",
        "glass_kinds = glass_identification.data.targets\n",
        "\n",
        "# show a Pandas Dataframe table of data in the notebook\n",
        "# raw_data"
      ],
      "metadata": {
        "id": "4mmFTMILfgZl"
      },
      "execution_count": 3,
      "outputs": []
    },
    {
      "cell_type": "code",
      "source": [
        "X, y = raw_data.iloc[:, 1:], raw_data.iloc[:, 0]\n",
        "\n",
        "X_train, X_test, y_train, y_test = train_test_split(X, y, test_size=0.33, random_state=42)\n",
        "\n",
        "scaler = StandardScaler()\n",
        "X_train = scaler.fit_transform(X_train)\n",
        "X_test = scaler.transform(X_test)\n"
      ],
      "metadata": {
        "id": "_w_9m00WlBO1"
      },
      "execution_count": 4,
      "outputs": []
    },
    {
      "cell_type": "markdown",
      "source": [
        "## Define & Train Model"
      ],
      "metadata": {
        "id": "Ce-bwKGiistF"
      }
    },
    {
      "cell_type": "code",
      "source": [
        "class LinearRegressionModel(nn.Module):\n",
        "  def __init__(self, input_dim, output_dim):\n",
        "      super(LinearRegressionModel, self).__init__()\n",
        "      self.linear = nn.Linear(input_dim, output_dim)\n",
        "\n",
        "  def forward(self, x):\n",
        "      out = self.linear(x)\n",
        "      return out\n"
      ],
      "metadata": {
        "id": "gDEL7GoqiI3B"
      },
      "execution_count": 5,
      "outputs": []
    },
    {
      "cell_type": "code",
      "source": [
        "model = LinearRegressionModel(X_train.shape[1], 1)\n",
        "print(model)\n",
        "criterion = nn.MSELoss()\n",
        "optimizer = optim.SGD(model.parameters(), lr=0.01)\n",
        "\n",
        "X_train_tensor = torch.tensor(X_train, dtype=torch.float32)\n",
        "y_train_tensor = torch.tensor(y_train.values, dtype=torch.float32).reshape(-1, 1)\n",
        "\n",
        "# Training loop\n",
        "num_epochs = 1000\n",
        "for epoch in range(num_epochs):\n",
        "    # Forward pass\n",
        "    outputs = model(X_train_tensor)\n",
        "    loss = criterion(outputs, y_train_tensor)\n",
        "\n",
        "    # Backward and optimize\n",
        "    optimizer.zero_grad()\n",
        "    loss.backward(retain_graph=True)\n",
        "    optimizer.step()\n",
        "\n",
        "    if (epoch+1) % 100 == 0:\n",
        "        print(f'Epoch [{epoch+1}/{num_epochs}], Loss: {loss.item():.6f}')\n",
        "\n",
        "# Evaluation\n",
        "model.eval()\n",
        "with torch.no_grad():\n",
        "    X_test_tensor = torch.tensor(X_test, dtype=torch.float32)\n",
        "    y_test_tensor = torch.tensor(y_test.values, dtype=torch.float32).reshape(-1, 1)\n",
        "    y_pred = model(X_test_tensor)\n",
        "\n",
        "    test_loss = criterion(y_pred, torch.tensor(y_test.values, dtype=torch.float32).reshape(-1, 1))\n",
        "    print(f'Test Loss: {test_loss.item():.6f}')"
      ],
      "metadata": {
        "colab": {
          "base_uri": "https://localhost:8080/"
        },
        "id": "kG-1iHwymen3",
        "outputId": "f3a27234-67fb-4d2e-b121-d5776e43b3ed"
      },
      "execution_count": 6,
      "outputs": [
        {
          "output_type": "stream",
          "name": "stdout",
          "text": [
            "LinearRegressionModel(\n",
            "  (linear): Linear(in_features=8, out_features=1, bias=True)\n",
            ")\n",
            "Epoch [100/1000], Loss: 0.046592\n",
            "Epoch [200/1000], Loss: 0.002469\n",
            "Epoch [300/1000], Loss: 0.000319\n",
            "Epoch [400/1000], Loss: 0.000054\n",
            "Epoch [500/1000], Loss: 0.000012\n",
            "Epoch [600/1000], Loss: 0.000004\n",
            "Epoch [700/1000], Loss: 0.000003\n",
            "Epoch [800/1000], Loss: 0.000003\n",
            "Epoch [900/1000], Loss: 0.000003\n",
            "Epoch [1000/1000], Loss: 0.000003\n",
            "Test Loss: 0.000003\n"
          ]
        }
      ]
    },
    {
      "cell_type": "markdown",
      "source": [
        "## Model Hessian Calculation"
      ],
      "metadata": {
        "id": "I8Xl1WsFolg9"
      }
    },
    {
      "cell_type": "code",
      "source": [
        "# Clear the existing model gradients\n",
        "model.zero_grad()"
      ],
      "metadata": {
        "id": "to8ldiZ-rI3O"
      },
      "execution_count": 7,
      "outputs": []
    },
    {
      "cell_type": "code",
      "source": [
        "# Calculate the first gradients\n",
        "grads = torch.autograd.grad(loss, model.parameters(), create_graph=True, retain_graph=True)\n",
        "print(*(g.shape for g in grads))\n",
        "\n",
        "# Flatten the gradients into a single vector\n",
        "grads_flat = torch.cat([g.contiguous().view(-1) for g in grads])\n",
        "print(grads_flat.shape)\n",
        "\n"
      ],
      "metadata": {
        "colab": {
          "base_uri": "https://localhost:8080/"
        },
        "id": "Ffh9XvB1rLf0",
        "outputId": "5f08daf3-f7f6-4413-ac3e-3efd08393ec7"
      },
      "execution_count": 8,
      "outputs": [
        {
          "output_type": "stream",
          "name": "stdout",
          "text": [
            "torch.Size([1, 8]) torch.Size([1])\n",
            "torch.Size([9])\n"
          ]
        }
      ]
    },
    {
      "cell_type": "code",
      "source": [
        "# Create empty matrix to hold the gradient calculation\n",
        "num_params = grads_flat.numel()\n",
        "hessian = []\n",
        "\n",
        "\n",
        "# for each gradient in the `grads_flat` vector\n",
        "for g_idx in grads_flat:\n",
        "    # get the gradient w.r.t. the gradient g_idx\n",
        "    grad2 = torch.autograd.grad(g_idx, model.parameters(), retain_graph=True)\n",
        "\n",
        "    # flatten the second derivative into a vector\n",
        "    grad2_flat = torch.cat([g.contiguous().view(-1) for g in grad2])\n",
        "\n",
        "    # Add it to the hessian list\n",
        "    hessian.append(grad2_flat)\n",
        "\n",
        "hessian = torch.stack(hessian)"
      ],
      "metadata": {
        "id": "h-UYGZtqnnku"
      },
      "execution_count": 9,
      "outputs": []
    },
    {
      "cell_type": "code",
      "source": [
        "hessian.shape"
      ],
      "metadata": {
        "colab": {
          "base_uri": "https://localhost:8080/"
        },
        "id": "1cGdF-n3qaZb",
        "outputId": "1cd68b59-6d3c-4a7f-87d1-ef4d4d5a44db"
      },
      "execution_count": 10,
      "outputs": [
        {
          "output_type": "execute_result",
          "data": {
            "text/plain": [
              "torch.Size([9, 9])"
            ]
          },
          "metadata": {},
          "execution_count": 10
        }
      ]
    },
    {
      "cell_type": "code",
      "source": [
        "plt.imshow(hessian)"
      ],
      "metadata": {
        "colab": {
          "base_uri": "https://localhost:8080/",
          "height": 448
        },
        "id": "AkBBwHpNqqsO",
        "outputId": "e1d7334e-6624-4fff-c9c4-b172c8448076"
      },
      "execution_count": 11,
      "outputs": [
        {
          "output_type": "execute_result",
          "data": {
            "text/plain": [
              "<matplotlib.image.AxesImage at 0x7df0480e1700>"
            ]
          },
          "metadata": {},
          "execution_count": 11
        },
        {
          "output_type": "display_data",
          "data": {
            "text/plain": [
              "<Figure size 640x480 with 1 Axes>"
            ],
            "image/png": "[encoded data removed]"
          },
          "metadata": {}
        }
      ]
    },
    {
      "cell_type": "markdown",
      "source": [
        "## Get the Hessian Eigenvalues and Eigenvectors"
      ],
      "metadata": {
        "id": "zHIMVyKTsvU7"
      }
    },
    {
      "cell_type": "code",
      "source": [
        "hessian = hessian.detach().numpy()\n",
        "eigenvalues, eigenvectors = LA.eig(hessian)"
      ],
      "metadata": {
        "id": "lALQZUEDsAHj"
      },
      "execution_count": 12,
      "outputs": []
    },
    {
      "cell_type": "code",
      "source": [
        "eig1 = torch.tensor(eigenvectors[:, 0].reshape(1, -1), dtype=torch.float32)\n",
        "eig2 = torch.tensor(eigenvectors[:, -1].reshape(1, -1), dtype=torch.float32)\n"
      ],
      "metadata": {
        "id": "gl56GI5VtmPA"
      },
      "execution_count": 13,
      "outputs": []
    },
    {
      "cell_type": "markdown",
      "source": [
        "## Calculate the Loss Landscape"
      ],
      "metadata": {
        "id": "QGaKy-BauOge"
      }
    },
    {
      "cell_type": "code",
      "source": [
        "loss_landscape_model = copy.deepcopy(model)\n"
      ],
      "metadata": {
        "id": "CoXa8JQ19RfN"
      },
      "execution_count": 20,
      "outputs": []
    },
    {
      "cell_type": "code",
      "source": [
        "loss_landscape_model.linear.weight.data"
      ],
      "metadata": {
        "id": "dCP_OF6E9TeX",
        "outputId": "ffffa8a8-4c5b-47e8-e5f3-d671f35b6434",
        "colab": {
          "base_uri": "https://localhost:8080/"
        }
      },
      "execution_count": 23,
      "outputs": [
        {
          "output_type": "execute_result",
          "data": {
            "text/plain": [
              "tensor([[0.0109, 0.0209, 0.0064, 0.0105, 0.0086, 0.0230, 0.0086, 0.0006]])"
            ]
          },
          "metadata": {},
          "execution_count": 23
        }
      ]
    },
    {
      "cell_type": "code",
      "source": [
        "loss_landscape_model.linear.weight.data - (eig1[:, :-1]/2.) - (eig2[:, :-1]/2.)"
      ],
      "metadata": {
        "id": "MlNpbS529SyA",
        "outputId": "a3800e28-a8aa-4fd9-8198-9fddc2319e57",
        "colab": {
          "base_uri": "https://localhost:8080/"
        }
      },
      "execution_count": 21,
      "outputs": [
        {
          "output_type": "execute_result",
          "data": {
            "text/plain": [
              "tensor([[-0.1436,  0.2740, -0.2664,  0.0315, -0.0466,  0.0667, -0.2752,  0.0417]])"
            ]
          },
          "metadata": {},
          "execution_count": 21
        }
      ]
    },
    {
      "cell_type": "code",
      "source": [
        "loss_landscape_model.linear.weight.data = loss_landscape_model.linear.weight.data - (eig1[:, :-1]/2.) - (eig2[:, :-1]/2.)\n",
        "loss_landscape_model.linear.weight.data"
      ],
      "metadata": {
        "id": "pGmj6M-r9X_n",
        "outputId": "27801abf-3d95-4bd1-a8c2-5d9f29bfcc7e",
        "colab": {
          "base_uri": "https://localhost:8080/"
        }
      },
      "execution_count": 24,
      "outputs": [
        {
          "output_type": "execute_result",
          "data": {
            "text/plain": [
              "tensor([[-0.1436,  0.2740, -0.2664,  0.0315, -0.0466,  0.0667, -0.2752,  0.0417]])"
            ]
          },
          "metadata": {},
          "execution_count": 24
        }
      ]
    },
    {
      "cell_type": "code",
      "source": [
        "# Loss Landscape Hyperparameters\n",
        "loss_landscape_model = copy.deepcopy(model)\n",
        "n_steps = 5.\n",
        "\n",
        "step_increment = 1/n_steps\n",
        "\n",
        "# shift model origin\n",
        "\n",
        "loss_landscape_model.linear.weight.data = loss_landscape_model.linear.weight.data - (eig1[:, :-1]/2.) - (eig2[:, :-1]/2.)\n",
        "loss_landscape_model.linear.bias.data = loss_landscape_model.linear.bias.data - (eig1[:, -1]/2.) - (eig2[:, :-1]/2.)\n",
        "\n",
        "eig1_step = eig1/n_steps\n",
        "eig2_step = eig2/n_steps\n",
        "\n",
        "loss_landscape = []\n",
        "\n",
        "for i in range(n_steps):\n",
        "  row = []\n",
        "\n",
        "  for j in range(n_steps):\n",
        "    loss_landscape_model.linear.weight.data = loss_landscape_model.linear.weight.data + j*eig1_step[:, :-1]\n",
        "    loss_landscape_model.linear.bias.data = loss_landscape_model.linear.bias.data + j*eig1_step[:, -1]\n",
        "    y_pred = model(X_test_tensor)\n",
        "    loss = criterion(y_pred, y_test_tensor)\n",
        "    row.append(loss.item())\n",
        "\n",
        "  loss_landscape.append(row)\n",
        "\n",
        "  loss_landscape_model.linear.weight.data = loss_landscape_model.linear.weight.data - j*eig1_step[:, :-1]\n",
        "  loss_landscape_model.linear.bias.data = loss_landscape_model.linear.bias.data - j*eig1_step[:, -1]\n",
        "  print(model.linear.weight.data[0, 0])\n",
        "  loss_landscape_model.linear.weight.data = loss_landscape_model.linear.weight.data + i*eig2_step[:, :-1]\n",
        "  loss_landscape_model.linear.bias.data = loss_landscape_model.linear.bias.data + i*eig2_step[:, -1]\n",
        "  print(model.linear.weight.data[0, 0])"
      ],
      "metadata": {
        "colab": {
          "base_uri": "https://localhost:8080/"
        },
        "id": "qgB8lIq-vx0M",
        "outputId": "975ce1b7-6b64-4111-bf1b-d24c542648a6"
      },
      "execution_count": 19,
      "outputs": [
        {
          "output_type": "stream",
          "name": "stdout",
          "text": [
            "tensor(0.0109)\n",
            "tensor(0.0109)\n",
            "tensor(0.0109)\n",
            "tensor(0.0109)\n",
            "tensor(0.0109)\n",
            "tensor(0.0109)\n",
            "tensor(0.0109)\n",
            "tensor(0.0109)\n",
            "tensor(0.0109)\n",
            "tensor(0.0109)\n"
          ]
        }
      ]
    },
    {
      "cell_type": "code",
      "source": [
        "y_pred.shape"
      ],
      "metadata": {
        "colab": {
          "base_uri": "https://localhost:8080/"
        },
        "id": "82aKDd5u7GeS",
        "outputId": "77786f51-ab11-4714-ea50-e9a4fef11b44"
      },
      "execution_count": 15,
      "outputs": [
        {
          "output_type": "execute_result",
          "data": {
            "text/plain": [
              "torch.Size([71, 1])"
            ]
          },
          "metadata": {},
          "execution_count": 15
        }
      ]
    },
    {
      "cell_type": "code",
      "source": [
        "y_test_tensor.shape"
      ],
      "metadata": {
        "colab": {
          "base_uri": "https://localhost:8080/"
        },
        "id": "lbVu3OVh7wSj",
        "outputId": "c3a4050d-5a24-4a5f-cfce-0642474c45d9"
      },
      "execution_count": 16,
      "outputs": [
        {
          "output_type": "execute_result",
          "data": {
            "text/plain": [
              "torch.Size([71, 1])"
            ]
          },
          "metadata": {},
          "execution_count": 16
        }
      ]
    },
    {
      "cell_type": "code",
      "source": [
        "plt.imshow(loss_landscape)\n",
        "plt.colorbar()"
      ],
      "metadata": {
        "colab": {
          "base_uri": "https://localhost:8080/",
          "height": 463
        },
        "id": "KbO9F-M8z8i8",
        "outputId": "44ef801a-53b6-4fc0-dcde-4d945ed1ba5e"
      },
      "execution_count": 17,
      "outputs": [
        {
          "output_type": "execute_result",
          "data": {
            "text/plain": [
              "<matplotlib.colorbar.Colorbar at 0x7df0481c2780>"
            ]
          },
          "metadata": {},
          "execution_count": 17
        },
        {
          "output_type": "display_data",
          "data": {
            "text/plain": [
              "<Figure size 640x480 with 2 Axes>"
            ],
            "image/png": "[encoded data removed]"
          },
          "metadata": {}
        }
      ]
    },
    {
      "cell_type": "code",
      "source": [],
      "metadata": {
        "id": "EMrqTvSt80iP"
      },
      "execution_count": 18,
      "outputs": []
    }
  ]
}