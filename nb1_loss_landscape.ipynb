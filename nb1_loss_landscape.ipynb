{
  "nbformat": 4,
  "nbformat_minor": 0,
  "metadata": {
    "colab": {
      "provenance": [],
      "toc_visible": true,
      "authorship_tag": "ABX9TyNzEgpmgWFTeTRojYiuApAv",
      "include_colab_link": true
    },
    "kernelspec": {
      "name": "python3",
      "display_name": "Python 3"
    },
    "language_info": {
      "name": "python"
    }
  },
  "cells": [
    {
      "cell_type": "markdown",
      "metadata": {
        "id": "view-in-github",
        "colab_type": "text"
      },
      "source": [
        "<a href=\"https://colab.research.google.com/github/daleas0120/townhall_tutorial/blob/main/nb1_loss_landscape.ipynb\" target=\"_parent\"><img src=\"https://colab.research.google.com/assets/colab-badge.svg\" alt=\"Open In Colab\"/></a>"
      ]
    },
    {
      "cell_type": "markdown",
      "source": [
        "# How to calculate a loss landscape\n",
        "\n",
        "Ashley S. Dale\n",
        "\n",
        "## Summary\n",
        "\n",
        "1. Train a small model on a toy dataset\n",
        "    - We will use the [Glass Identification Dataset](http://archive.ics.uci.edu/dataset/42/glass+identification) from UC Irvine Machine Learning Repository\n",
        "2. Calculate the Hessian of the model\n",
        "3. Calculate the eigenvalues and eigenvectors of the Hessian\n",
        "4. Calculate the loss landscape for the model"
      ],
      "metadata": {
        "id": "NzPJP3MXfFHe"
      }
    },
    {
      "cell_type": "code",
      "source": [
        "%pip install ucimlrepo --quiet"
      ],
      "metadata": {
        "id": "IweH8iuQh2ln"
      },
      "execution_count": 1,
      "outputs": []
    },
    {
      "cell_type": "code",
      "execution_count": 2,
      "metadata": {
        "id": "TLDgdE93e8RM"
      },
      "outputs": [],
      "source": [
        "import numpy as np\n",
        "import matplotlib.pyplot as plt\n",
        "import copy\n",
        "# Data Processing\n",
        "from ucimlrepo import fetch_ucirepo\n",
        "from sklearn.preprocessing import StandardScaler\n",
        "from sklearn.model_selection import train_test_split\n",
        "\n",
        "# Model training & Hessian Calculation\n",
        "import torch\n",
        "import torch.nn as nn\n",
        "import torch.optim as optim\n",
        "\n",
        "# Hessian Eigenvectors and Values\n",
        "from numpy import linalg as LA\n"
      ]
    },
    {
      "cell_type": "markdown",
      "source": [
        "## Data Preprocessing"
      ],
      "metadata": {
        "id": "TBrJfnVeiGVy"
      }
    },
    {
      "cell_type": "code",
      "source": [
        "# load the dataset by running this cell\n",
        "glass_identification = fetch_ucirepo(id=42)\n",
        "\n",
        "# extract the refractive index and chemical formula information\n",
        "raw_data = glass_identification.data.features\n",
        "glass_kinds = glass_identification.data.targets\n",
        "\n",
        "# show a Pandas Dataframe table of data in the notebook\n",
        "# raw_data"
      ],
      "metadata": {
        "id": "4mmFTMILfgZl"
      },
      "execution_count": 3,
      "outputs": []
    },
    {
      "cell_type": "code",
      "source": [
        "X, y = raw_data.iloc[:, 1:], raw_data.iloc[:, 0]\n",
        "\n",
        "X_train, X_test, y_train, y_test = train_test_split(X, y, test_size=0.33, random_state=42)\n",
        "\n",
        "scaler = StandardScaler()\n",
        "X_train = scaler.fit_transform(X_train)\n",
        "X_test = scaler.transform(X_test)\n"
      ],
      "metadata": {
        "id": "_w_9m00WlBO1"
      },
      "execution_count": 4,
      "outputs": []
    },
    {
      "cell_type": "markdown",
      "source": [
        "## Define & Train Model"
      ],
      "metadata": {
        "id": "Ce-bwKGiistF"
      }
    },
    {
      "cell_type": "code",
      "source": [
        "class LinearRegressionModel(nn.Module):\n",
        "  def __init__(self, input_dim, output_dim):\n",
        "      super(LinearRegressionModel, self).__init__()\n",
        "      self.linear = nn.Linear(input_dim, output_dim)\n",
        "\n",
        "  def forward(self, x):\n",
        "      out = self.linear(x)\n",
        "      return out\n"
      ],
      "metadata": {
        "id": "gDEL7GoqiI3B"
      },
      "execution_count": 5,
      "outputs": []
    },
    {
      "cell_type": "code",
      "source": [
        "model = LinearRegressionModel(X_train.shape[1], 1)\n",
        "print(model)\n",
        "criterion = nn.MSELoss()\n",
        "optimizer = optim.SGD(model.parameters(), lr=0.01)\n",
        "\n",
        "X_train_tensor = torch.tensor(X_train, dtype=torch.float32)\n",
        "y_train_tensor = torch.tensor(y_train.values, dtype=torch.float32).reshape(-1, 1)\n",
        "\n",
        "# Training loop\n",
        "num_epochs = 100\n",
        "for epoch in range(num_epochs):\n",
        "    # Forward pass\n",
        "    outputs = model(X_train_tensor)\n",
        "    loss = criterion(outputs, y_train_tensor)\n",
        "\n",
        "    # Backward and optimize\n",
        "    optimizer.zero_grad()\n",
        "    loss.backward(retain_graph=True)\n",
        "    optimizer.step()\n",
        "\n",
        "    if (epoch+1) % 100 == 0:\n",
        "        print(f'Epoch [{epoch+1}/{num_epochs}], Loss: {loss.item():.6f}')\n",
        "\n",
        "# Evaluation\n",
        "model.eval()\n",
        "with torch.no_grad():\n",
        "    X_test_tensor = torch.tensor(X_test, dtype=torch.float32)\n",
        "    y_test_tensor = torch.tensor(y_test.values, dtype=torch.float32).reshape(-1, 1)\n",
        "    y_pred = model(X_test_tensor)\n",
        "\n",
        "    test_loss = criterion(y_pred, torch.tensor(y_test.values, dtype=torch.float32).reshape(-1, 1))\n",
        "    print(f'Test Loss: {test_loss.item():.6f}')"
      ],
      "metadata": {
        "colab": {
          "base_uri": "https://localhost:8080/"
        },
        "id": "kG-1iHwymen3",
        "outputId": "a0d178fc-b847-4822-f454-14f740435f81"
      },
      "execution_count": 6,
      "outputs": [
        {
          "output_type": "stream",
          "name": "stdout",
          "text": [
            "LinearRegressionModel(\n",
            "  (linear): Linear(in_features=8, out_features=1, bias=True)\n",
            ")\n",
            "Epoch [100/100], Loss: 0.044623\n",
            "Test Loss: 0.051317\n"
          ]
        }
      ]
    },
    {
      "cell_type": "markdown",
      "source": [
        "## Model Hessian Calculation"
      ],
      "metadata": {
        "id": "I8Xl1WsFolg9"
      }
    },
    {
      "cell_type": "code",
      "source": [
        "# Clear the existing model gradients\n",
        "model.zero_grad()"
      ],
      "metadata": {
        "id": "to8ldiZ-rI3O"
      },
      "execution_count": 7,
      "outputs": []
    },
    {
      "cell_type": "code",
      "source": [
        "# Calculate the first gradients\n",
        "grads = torch.autograd.grad(loss, model.parameters(), create_graph=True, retain_graph=True)\n",
        "print(*(g.shape for g in grads))\n",
        "\n",
        "# Flatten the gradients into a single vector\n",
        "grads_flat = torch.cat([g.contiguous().view(-1) for g in grads])\n",
        "print(grads_flat.shape)\n",
        "\n"
      ],
      "metadata": {
        "colab": {
          "base_uri": "https://localhost:8080/"
        },
        "id": "Ffh9XvB1rLf0",
        "outputId": "0c4dd84e-f043-494e-9814-7e608d0dee4e"
      },
      "execution_count": 8,
      "outputs": [
        {
          "output_type": "stream",
          "name": "stdout",
          "text": [
            "torch.Size([1, 8]) torch.Size([1])\n",
            "torch.Size([9])\n"
          ]
        }
      ]
    },
    {
      "cell_type": "code",
      "source": [
        "# Create empty matrix to hold the gradient calculation\n",
        "num_params = grads_flat.numel()\n",
        "hessian = []\n",
        "\n",
        "\n",
        "# for each gradient in the `grads_flat` vector\n",
        "for g_idx in grads_flat:\n",
        "    # get the gradient w.r.t. the gradient g_idx\n",
        "    grad2 = torch.autograd.grad(g_idx, model.parameters(), retain_graph=True)\n",
        "\n",
        "    # flatten the second derivative into a vector\n",
        "    grad2_flat = torch.cat([g.contiguous().view(-1) for g in grad2])\n",
        "\n",
        "    # Add it to the hessian list\n",
        "    hessian.append(grad2_flat)\n",
        "\n",
        "hessian = torch.stack(hessian)"
      ],
      "metadata": {
        "id": "h-UYGZtqnnku"
      },
      "execution_count": 9,
      "outputs": []
    },
    {
      "cell_type": "code",
      "source": [
        "hessian.shape"
      ],
      "metadata": {
        "colab": {
          "base_uri": "https://localhost:8080/"
        },
        "id": "1cGdF-n3qaZb",
        "outputId": "aa78c38e-28d0-4788-d546-62ce3c5c5b66"
      },
      "execution_count": 10,
      "outputs": [
        {
          "output_type": "execute_result",
          "data": {
            "text/plain": [
              "torch.Size([9, 9])"
            ]
          },
          "metadata": {},
          "execution_count": 10
        }
      ]
    },
    {
      "cell_type": "code",
      "source": [
        "plt.imshow(hessian)"
      ],
      "metadata": {
        "colab": {
          "base_uri": "https://localhost:8080/",
          "height": 448
        },
        "id": "AkBBwHpNqqsO",
        "outputId": "d700c099-8bcf-45be-fcb5-12170f0ca153"
      },
      "execution_count": 11,
      "outputs": [
        {
          "output_type": "execute_result",
          "data": {
            "text/plain": [
              "<matplotlib.image.AxesImage at 0x78f88a0b8f50>"
            ]
          },
          "metadata": {},
          "execution_count": 11
        },
        {
          "output_type": "display_data",
          "data": {
            "text/plain": [
              "<Figure size 640x480 with 1 Axes>"
            ],
            "image/png": "[encoded data removed]"
          },
          "metadata": {}
        }
      ]
    },
    {
      "cell_type": "markdown",
      "source": [
        "## Get the Hessian Eigenvalues and Eigenvectors"
      ],
      "metadata": {
        "id": "zHIMVyKTsvU7"
      }
    },
    {
      "cell_type": "code",
      "source": [
        "hessian = hessian.detach().numpy()\n",
        "\n",
        "eigenvalues, eigenvectors = LA.eig(hessian)\n",
        "eigenvectors = [eigenvectors[:][i] for i in range(num_params)]\n",
        "eigenvalues = list([i] for i in eigenvalues)\n",
        "\n",
        "eigenvalues, eigenvectors = zip(*sorted(zip(eigenvalues, eigenvectors)))\n",
        "eigenvalues, eigenvectors = list(eigenvalues), list(eigenvectors)"
      ],
      "metadata": {
        "id": "lALQZUEDsAHj"
      },
      "execution_count": 13,
      "outputs": []
    },
    {
      "cell_type": "code",
      "source": [
        "plt.plot(eigenvalues)\n",
        "plt.xlabel('ith Eigenvalue')\n",
        "plt.ylabel('Eigenvalue')\n",
        "plt.show()"
      ],
      "metadata": {
        "colab": {
          "base_uri": "https://localhost:8080/",
          "height": 449
        },
        "id": "_sbmT3XlC5Tc",
        "outputId": "1d745c4d-8ee7-4cc0-cebd-fc3a6f1b1774"
      },
      "execution_count": 28,
      "outputs": [
        {
          "output_type": "display_data",
          "data": {
            "text/plain": [
              "<Figure size 640x480 with 1 Axes>"
            ],
            "image/png": "[encoded data removed]"
          },
          "metadata": {}
        }
      ]
    },
    {
      "cell_type": "code",
      "source": [
        "eig1 = torch.tensor(eigenvectors[-1].reshape(1, -1), dtype=torch.float32)\n",
        "eig2 = torch.tensor(eigenvectors[-2].reshape(1, -1), dtype=torch.float32)"
      ],
      "metadata": {
        "id": "gl56GI5VtmPA"
      },
      "execution_count": 15,
      "outputs": []
    },
    {
      "cell_type": "markdown",
      "source": [
        "## Calculate the Loss Landscape"
      ],
      "metadata": {
        "id": "QGaKy-BauOge"
      }
    },
    {
      "cell_type": "code",
      "source": [
        "# Loss Landscape Hyperparameters\n",
        "loss_landscape_model = copy.deepcopy(model)\n",
        "n_steps = 100\n",
        "\n",
        "step_increment = 1/n_steps\n",
        "\n",
        "# shift model origin\n",
        "\n",
        "loss_landscape_model.linear.weight.data = loss_landscape_model.linear.weight.data - (eig1[:, :-1]/2.) - (eig2[:, :-1]/2.)\n",
        "loss_landscape_model.linear.bias.data = loss_landscape_model.linear.bias.data - (eig1[:, -1]/2.) - (eig2[:, -1]/2.)\n",
        "\n",
        "eig1_step = eig1/n_steps\n",
        "eig2_step = eig2/n_steps\n",
        "\n",
        "loss_landscape = []\n",
        "\n",
        "for _ in range(0, n_steps):\n",
        "  row = []\n",
        "\n",
        "  loss_landscape_model.linear.weight.data = loss_landscape_model.linear.weight.data + eig2_step[:, :-1]\n",
        "  loss_landscape_model.linear.bias.data = loss_landscape_model.linear.bias.data + eig2_step[:, -1]\n",
        "\n",
        "  for j in range(1, n_steps+1):\n",
        "    loss_landscape_model.linear.weight.data = loss_landscape_model.linear.weight.data + eig1_step[:, :-1]\n",
        "    loss_landscape_model.linear.bias.data = loss_landscape_model.linear.bias.data + eig1_step[:, -1]\n",
        "    y_pred = loss_landscape_model(X_test_tensor)\n",
        "    loss = criterion(y_pred, y_test_tensor)\n",
        "    row.append(loss.item())\n",
        "\n",
        "  loss_landscape.append(row)\n",
        "\n",
        "  loss_landscape_model.linear.weight.data = loss_landscape_model.linear.weight.data - j*eig1_step[:, :-1]\n",
        "  loss_landscape_model.linear.bias.data = loss_landscape_model.linear.bias.data - j*eig1_step[:, -1]\n",
        "\n"
      ],
      "metadata": {
        "id": "qgB8lIq-vx0M"
      },
      "execution_count": 27,
      "outputs": []
    },
    {
      "cell_type": "code",
      "source": [
        "plt.imshow(np.log10(loss_landscape))\n",
        "plt.colorbar()"
      ],
      "metadata": {
        "colab": {
          "base_uri": "https://localhost:8080/",
          "height": 451
        },
        "id": "KbO9F-M8z8i8",
        "outputId": "a6fbfa98-efdf-4a62-81e8-6a9c76edd1ad"
      },
      "execution_count": 26,
      "outputs": [
        {
          "output_type": "execute_result",
          "data": {
            "text/plain": [
              "<matplotlib.colorbar.Colorbar at 0x78f886e979b0>"
            ]
          },
          "metadata": {},
          "execution_count": 26
        },
        {
          "output_type": "display_data",
          "data": {
            "text/plain": [
              "<Figure size 640x480 with 2 Axes>"
            ],
            "image/png": "[encoded data removed]"
          },
          "metadata": {}
        }
      ]
    },
    {
      "cell_type": "code",
      "source": [],
      "metadata": {
        "id": "krlkWVEfE6cT"
      },
      "execution_count": 17,
      "outputs": []
    }
  ]
}