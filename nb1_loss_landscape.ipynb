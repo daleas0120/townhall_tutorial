{
 "cells": [
  {
   "cell_type": "markdown",
   "id": "aa145e34",
   "metadata": {},
   "source": [
    "# How to Make a Loss Landscape"
   ]
  },
  {
   "cell_type": "code",
   "execution_count": null,
   "id": "c260556c",
   "metadata": {},
   "outputs": [],
   "source": [
    "import torch"
   ]
  }
 ],
 "metadata": {
  "kernelspec": {
   "display_name": "loss_landscapes_demo",
   "language": "python",
   "name": "python3"
  },
  "language_info": {
   "name": "python",
   "version": "3.10.0"
  }
 },
 "nbformat": 4,
 "nbformat_minor": 5
}
